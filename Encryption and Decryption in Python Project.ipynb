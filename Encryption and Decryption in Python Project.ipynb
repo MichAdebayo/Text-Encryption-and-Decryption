{
 "cells": [
  {
   "cell_type": "markdown",
   "id": "f0165897",
   "metadata": {},
   "source": [
    "# Encrypting and Decryting texts using the Caesar Cipher and Columnar Transposition Cipher Techniques"
   ]
  },
  {
   "cell_type": "markdown",
   "id": "c90efc7a",
   "metadata": {},
   "source": [
    "*This is a notebook by Michael Adebayo*"
   ]
  },
  {
   "cell_type": "markdown",
   "id": "53fbb065",
   "metadata": {},
   "source": [
    "## Case Description\n"
   ]
  },
  {
   "cell_type": "markdown",
   "id": "14cc7d35",
   "metadata": {},
   "source": [
    "Cryptography is a critical problem in programming that has engaged researchers for many decades. With better encryption methods, we can better protect sensitive information—such as passwords and personal data—and ensure secure online communication. Therefore, exploring such methods as the caesar cipher and the transposition cipher would contribute towards effort to maintaining data integrity and confidentiality."
   ]
  },
  {
   "cell_type": "markdown",
   "id": "c5c91499",
   "metadata": {},
   "source": [
    "## Contents"
   ]
  },
  {
   "cell_type": "markdown",
   "id": "d89a5edc",
   "metadata": {},
   "source": [
    "1. [Import Library](#1.-Import-Library)\n",
    "\n",
    "2. [Caesar Cipher](#2.-Caesar-Cipher)\n",
    "    - [Create a constructor](#Create-a-constructor)\n",
    "    - [Encrypt a message](#Encrypt-a-message)\n",
    "    - [Decrypt a message](#Decrypt-a-message¶)\n",
    "    \n",
    "    \n",
    "    \n",
    "3. [Columnar Transposition Cipher](#3.-Columnar-Transposition-Cipher)\n",
    "    - [Create the constructor](#Create-the-constructor)\n",
    "    - [Encrypt the message](#Encrypt-the-message)\n",
    "    - [Decrypt the message](#Decrypt-the-message)\n",
    "    - [Alternative solution](#Alternative-solution-to-the-Columnar-Transposition-Cipher)"
   ]
  },
  {
   "cell_type": "markdown",
   "id": "6bbbc471",
   "metadata": {},
   "source": [
    "## 1. Import Library"
   ]
  },
  {
   "cell_type": "markdown",
   "id": "a2494968",
   "metadata": {},
   "source": [
    "Import the libraries to be used in this notebook."
   ]
  },
  {
   "cell_type": "code",
   "execution_count": 5,
   "id": "8bcba0d5",
   "metadata": {},
   "outputs": [],
   "source": [
    "from math import ceil # for rounding the result of dividing two numbers\n",
    "from math import floor # rounds a number down to the nearest integer. It returns the largest integer <= the given number."
   ]
  },
  {
   "cell_type": "markdown",
   "id": "02994618",
   "metadata": {},
   "source": [
    "## 2. Caesar Cipher"
   ]
  },
  {
   "cell_type": "markdown",
   "id": "410c8842",
   "metadata": {},
   "source": [
    "The caesar cipher is a simple yet effective way of encrypting a text to render it unreadable to anyone without the key to decrypting/decoding the text. It relies on substituting texts by shifting each letter in the text by a fixed number of places down or up the alphabet. Here, the caesar cipher is implemented by creating a CaesarCipher class, and creating an encryption (and decryption) method that shifts the alphabets in a text by 14 places (and returns the original text provided the text decryption key is valid). "
   ]
  },
  {
   "cell_type": "markdown",
   "id": "37afc9e1",
   "metadata": {},
   "source": [
    "### Create a constructor"
   ]
  },
  {
   "cell_type": "markdown",
   "id": "46d6f2dc",
   "metadata": {},
   "source": [
    "1) **Initialize an instance variable:** In the constructor, an instance variable self.key is initialized. This instance variable will hold the value of the encryption key for the cipher."
   ]
  },
  {
   "cell_type": "code",
   "execution_count": 3,
   "id": "5612586e",
   "metadata": {},
   "outputs": [],
   "source": [
    "# Create a constructor\n",
    "\n",
    "class CaesarCipher(object):\n",
    "    \n",
    "    def __init__(self, key):\n",
    "        # Set the key for the cipher\n",
    "        self.key = key"
   ]
  },
  {
   "cell_type": "markdown",
   "id": "f0194c5a",
   "metadata": {},
   "source": [
    "2) **Test the constructor:** Check whether the constructor works."
   ]
  },
  {
   "cell_type": "code",
   "execution_count": null,
   "id": "81117c1f",
   "metadata": {},
   "outputs": [],
   "source": [
    "# Test the constructor\n",
    "\n",
    "c_cipher = CaesarCipher(10)\n",
    "c_cipher.key"
   ]
  },
  {
   "cell_type": "markdown",
   "id": "4e6dac61",
   "metadata": {},
   "source": [
    "### Encrypt a message"
   ]
  },
  {
   "cell_type": "markdown",
   "id": "4c3b307b",
   "metadata": {},
   "source": [
    "1) **Define the text encyption method and initialize an empty string:** Calling on this method encrypts any provided text. The first step is to initialize an empty string that will store the encrypted text. "
   ]
  },
  {
   "cell_type": "code",
   "execution_count": null,
   "id": "55a58d95",
   "metadata": {},
   "outputs": [],
   "source": [
    "def encrypt_message(message):\n",
    "    \n",
    "    # Initialize an empty string to store the encrypted text\n",
    "        encrypted_word = ''"
   ]
  },
  {
   "cell_type": "markdown",
   "id": "37b0c4ae",
   "metadata": {},
   "source": [
    "2) **Convert text to a string:** In case the text is not provided as a string, this would convert the text into a string and convert the text to lowercase. "
   ]
  },
  {
   "cell_type": "code",
   "execution_count": null,
   "id": "91f68b71",
   "metadata": {},
   "outputs": [],
   "source": [
    "@staticmethod\n",
    "def encrypt_message(message):\n",
    "    \n",
    "    # Initialize an empty string to store the encrypted text\n",
    "    encrypted_word = ''\n",
    "    \n",
    "    # Convert the text to a string and convert it to lowercase\n",
    "    message = str(message).lower()"
   ]
  },
  {
   "cell_type": "markdown",
   "id": "2c29eccd",
   "metadata": {},
   "source": [
    "3) **Write a for-loop to itirate over each text character and substitute it with the next 14th alphabet:** Itirate over each text character, if the character is an alphabet, then substitute with the next 14th alphabet."
   ]
  },
  {
   "cell_type": "code",
   "execution_count": null,
   "id": "1d064c6f",
   "metadata": {},
   "outputs": [],
   "source": [
    "@staticmethod\n",
    "def encrypt_message(message):\n",
    "    \n",
    "    # Initialize an empty string to store the encrypted message\n",
    "    encrypted_word = ''\n",
    "    \n",
    "    # Convert the message to a string (if it's not already) and convert it to lowercase\n",
    "    message = str(message).lower()\n",
    "    \n",
    "    # Iterate over each character in the message\n",
    "    for char in message:\n",
    "        \n",
    "        # Check if the character is an alphabet letter\n",
    "        if char.isalpha():\n",
    "            \n",
    "        # Encrypt the character:\n",
    "        # 1. Convert the character to its ASCII value using ord()\n",
    "        # 2. Subtract 97 to get a zero-based index (since 'a' is 97 in ASCII)\n",
    "        # 3. Add 14 (the shift key for the cipher)\n",
    "        # 4. Take modulo 26 to wrap around the alphabet if necessary\n",
    "        # 5. Add 97 to convert back to an ASCII value\n",
    "        # 6. Convert back to a character using chr()\n",
    "            encrypt = chr((ord(char) - 97 + 14) % 26 + 97)"
   ]
  },
  {
   "cell_type": "markdown",
   "id": "2d64258f",
   "metadata": {},
   "source": [
    "4) **Append encrypted alphabet characters to the initialized string:** Attach the encrypted characters to the 'encrypted_word' string previously initialized"
   ]
  },
  {
   "cell_type": "code",
   "execution_count": null,
   "id": "6d0a69a2",
   "metadata": {},
   "outputs": [],
   "source": [
    "@staticmethod\n",
    "def encrypt_message(message):\n",
    "    \n",
    "    # Initialize an empty string to store the encrypted message\n",
    "    encrypted_word = ''\n",
    "    \n",
    "    # Convert the message to a string (if it's not already) and convert it to lowercase\n",
    "    message = str(message).lower()\n",
    "    \n",
    "    # Iterate over each character in the message\n",
    "    for char in message:\n",
    "        \n",
    "        # Check if the character is an alphabet letter\n",
    "        if char.isalpha():\n",
    "            \n",
    "        # Encrypt the character:\n",
    "        # 1. Convert the character to its ASCII value using ord()\n",
    "        # 2. Subtract 97 to get a zero-based index (since 'a' is 97 in ASCII)\n",
    "        # 3. Add 14 (the shift key for the cipher)\n",
    "        # 4. Take modulo 26 to wrap around the alphabet if necessary\n",
    "        # 5. Add 97 to convert back to an ASCII value\n",
    "        # 6. Convert back to a character using chr()\n",
    "            encrypt = chr((ord(char) - 97 + 14) % 26 + 97)\n",
    "            \n",
    "        # Append the encrypted character to the encrypted_word string\n",
    "            encrypted_word += encrypt"
   ]
  },
  {
   "cell_type": "markdown",
   "id": "b971ea5c",
   "metadata": {},
   "source": [
    "5) **Append non-alphabet characters to the initialized string:** Attach any non-alphabet character to the initialized 'encrypted_word' string."
   ]
  },
  {
   "cell_type": "code",
   "execution_count": null,
   "id": "ff83932c",
   "metadata": {},
   "outputs": [],
   "source": [
    "@staticmethod\n",
    "def encrypt_message(message):\n",
    "    \n",
    "    # Initialize an empty string to store the encrypted message\n",
    "    encrypted_word = ''\n",
    "    \n",
    "    # Convert the message to a string (if it's not already) and convert it to lowercase\n",
    "    message = str(message).lower()\n",
    "    \n",
    "    # Iterate over each character in the message\n",
    "    for char in message:\n",
    "        \n",
    "        # Check if the character is an alphabet letter\n",
    "        if char.isalpha():\n",
    "            \n",
    "        # Encrypt the character:\n",
    "        # 1. Convert the character to its ASCII value using ord()\n",
    "        # 2. Subtract 97 to get a zero-based index (since 'a' is 97 in ASCII)\n",
    "        # 3. Add 14 (the shift key for the cipher)\n",
    "        # 4. Take modulo 26 to wrap around the alphabet if necessary\n",
    "        # 5. Add 97 to convert back to an ASCII value\n",
    "        # 6. Convert back to a character using chr()\n",
    "            encrypt = chr((ord(char) - 97 + 14) % 26 + 97)\n",
    "            \n",
    "        # Append the encrypted character to the encrypted_word string\n",
    "            encrypted_word += encrypt\n",
    "        else:\n",
    "            # If the character is not an alphabet letter (e.g., space, punctuation), append it unchanged\n",
    "            encrypted_word += char"
   ]
  },
  {
   "cell_type": "markdown",
   "id": "f9850ee0",
   "metadata": {},
   "source": [
    "6) **Return the fully encrypted message:** Return the encrypted text which is now stored in the 'encrypted_word' string. "
   ]
  },
  {
   "cell_type": "code",
   "execution_count": null,
   "id": "02f504b9",
   "metadata": {},
   "outputs": [],
   "source": [
    "@staticmethod\n",
    "def encrypt_message(message):\n",
    "    \n",
    "    # Initialize an empty string to store the encrypted message\n",
    "    encrypted_word = ''\n",
    "    \n",
    "    # Convert the message to a string (if it's not already) and convert it to lowercase\n",
    "    message = str(message).lower()\n",
    "    \n",
    "    # Iterate over each character in the message\n",
    "    for char in message:\n",
    "        \n",
    "        # Check if the character is an alphabet letter\n",
    "        if char.isalpha():\n",
    "            \n",
    "        # Encrypt the character:\n",
    "        # 1. Convert the character to its ASCII value using ord()\n",
    "        # 2. Subtract 97 to get a zero-based index (since 'a' is 97 in ASCII)\n",
    "        # 3. Add 14 (the shift key for the cipher)\n",
    "        # 4. Take modulo 26 to wrap around the alphabet if necessary\n",
    "        # 5. Add 97 to convert back to an ASCII value\n",
    "        # 6. Convert back to a character using chr()\n",
    "            encrypt = chr((ord(char) - 97 + 14) % 26 + 97)\n",
    "            \n",
    "            # Append the encrypted character to the encrypted_word string\n",
    "            encrypted_word += encrypt\n",
    "        else:\n",
    "            # If the character is not an alphabet letter (e.g., space, punctuation), append it unchanged\n",
    "            encrypted_word += char\n",
    "            \n",
    "    # Return the fully encrypted message\n",
    "    return encrypted_word"
   ]
  },
  {
   "cell_type": "markdown",
   "id": "7c19667e",
   "metadata": {},
   "source": [
    "7) **Combine the codes:** Add the contructor to the encrypt_message method."
   ]
  },
  {
   "cell_type": "code",
   "execution_count": 19,
   "id": "e399946a",
   "metadata": {},
   "outputs": [],
   "source": [
    "class CaesarCipher(object):\n",
    "    \n",
    "    def __init__(self, key):\n",
    "        # Set the key for the cipher\n",
    "        self.key = key\n",
    "        \n",
    "    @staticmethod\n",
    "    def encrypt_message(message):\n",
    "        \n",
    "    # Initialize an empty string to store the encrypted message\n",
    "        encrypted_word = ''\n",
    "    \n",
    "    # Convert the message to a string (if it's not already) and convert it to lowercase\n",
    "        message = str(message).lower()\n",
    "    \n",
    "    # Iterate over each character in the message\n",
    "        for char in message:\n",
    "            \n",
    "        # Check if the character is an alphabet letter\n",
    "            if char.isalpha():\n",
    "                \n",
    "            # Encrypt the character:\n",
    "            # 1. Convert the character to its ASCII value using ord()\n",
    "            # 2. Subtract 97 to get a zero-based index (since 'a' is 97 in ASCII)\n",
    "            # 3. Add 14 (the shift key for the cipher)\n",
    "            # 4. Take modulo 26 to wrap around the alphabet if necessary\n",
    "            # 5. Add 97 to convert back to an ASCII value\n",
    "            # 6. Convert back to a character using chr()\n",
    "                encrypt = chr((ord(char) - 97 + 14) % 26 + 97)\n",
    "            \n",
    "            # Append the encrypted character to the encrypted_word string\n",
    "                encrypted_word += encrypt\n",
    "            else:\n",
    "            # If the character is not an alphabet letter (e.g., space, punctuation), append it unchanged\n",
    "                encrypted_word += char\n",
    "    \n",
    "        # Return the fully encrypted message\n",
    "        return encrypted_word\n"
   ]
  },
  {
   "cell_type": "markdown",
   "id": "b145047b",
   "metadata": {},
   "source": [
    "8) **Test the defined encryption method:** Check whether a text will be encrypted when the method is called. Note that the method is written in a way that does not require a key for encryption. A key is only required to decrypt the text. Also, the class attribute is not called in the defined method, hence, why the encryption method is static."
   ]
  },
  {
   "cell_type": "code",
   "execution_count": null,
   "id": "d805fb59",
   "metadata": {},
   "outputs": [],
   "source": [
    "# Test the encryption method\n",
    "\n",
    "# Text to be encrypted\n",
    "word_to_be_encrypted = \"The United Kingdom publishes first guidelines for human embryo models grown from stem cells.\"\n",
    "\n",
    "# Call the encryption method from the CaesarCipher class to encrypt text\n",
    "encrypted = CaesarCipher.encrypt_message(word_to_be_encrypted)\n",
    "\n",
    "# Print text with each alphabet of the text now substituted by the 14th letter after it\n",
    "print(\"Encrypted sentence:\", encrypted)\n"
   ]
  },
  {
   "cell_type": "markdown",
   "id": "99d7054c",
   "metadata": {},
   "source": [
    "### Decrypt a message¶"
   ]
  },
  {
   "cell_type": "markdown",
   "id": "6170677f",
   "metadata": {},
   "source": [
    "1) **Define the text decryption method and set-up decryption key request:** Calling on this method decrypts the encrypted text. The first step is to ask for the cipher key before decryption can commence. If key is incorrect, user is asked to try again and this is done by re-calling the method again. "
   ]
  },
  {
   "cell_type": "code",
   "execution_count": null,
   "id": "ba9229ee",
   "metadata": {},
   "outputs": [],
   "source": [
    "def decrypt_message(self, message):\n",
    "    \n",
    "    # Request the user to input the decryption key\n",
    "    code_request = int(input('What is your text key?:> ')) string to store the encrypted message\n",
    "    \n",
    "    # Check if the input key matches the instance's key attribute\n",
    "    if code_request != self.key:\n",
    "        \n",
    "        # If the keys do not match, return a message indicating the key was not accepted\n",
    "        return 'Key not accepted. Try again'"
   ]
  },
  {
   "cell_type": "markdown",
   "id": "7f692d3d",
   "metadata": {},
   "source": [
    "2) **Proceed to decryption if key is correct:** If the key is correct, then the decyrption process begins by initializing a string to store the decrypted text."
   ]
  },
  {
   "cell_type": "code",
   "execution_count": null,
   "id": "016130ff",
   "metadata": {},
   "outputs": [],
   "source": [
    "def decrypt_message(self, message):\n",
    "    \n",
    "    # Request the user to input the decryption key\n",
    "    code_request = int(input('What is your text key?:> '))\n",
    "    \n",
    "    # Check if the input key matches the instance's key attribute\n",
    "    if code_request != self.key:\n",
    "        \n",
    "        # If the keys do not match, return a message indicating the key was not accepted\n",
    "        return 'Key not accepted. Try again'\n",
    "    \n",
    "    else:\n",
    "        # If the keys match, proceed with decryption\n",
    "        decrypted_word = ''"
   ]
  },
  {
   "cell_type": "markdown",
   "id": "c8c687b0",
   "metadata": {},
   "source": [
    "3) **Convert text to a string:** Convert the encrypted text into a string with characters in lowercases."
   ]
  },
  {
   "cell_type": "code",
   "execution_count": null,
   "id": "a03f941f",
   "metadata": {},
   "outputs": [],
   "source": [
    "def decrypt_message(self, message):\n",
    "    \n",
    "    # Request the user to input the decryption key\n",
    "    code_request = int(input('What is your text key?:> '))\n",
    "    \n",
    "    # Check if the input key matches the instance's key attribute\n",
    "    if code_request != self.key:\n",
    "        \n",
    "        # If the keys do not match, return a message indicating the key was not accepted\n",
    "        return 'Key not accepted. Try again'\n",
    "    \n",
    "    else:\n",
    "        # If the keys match, proceed with decryption\n",
    "        decrypted_word = ''\n",
    "        \n",
    "        # Convert the text to a string (if it's not already) and convert it to lowercase\n",
    "        message = str(message).lower()"
   ]
  },
  {
   "cell_type": "markdown",
   "id": "99212992",
   "metadata": {},
   "source": [
    "4) **Write a for-loop to itirate over each text character and reverse the text:** Itirate over each text character, if the character is an alphabet, then substitute with the 14th alphabet before the current character."
   ]
  },
  {
   "cell_type": "code",
   "execution_count": null,
   "id": "dccb72bd",
   "metadata": {},
   "outputs": [],
   "source": [
    "def decrypt_message(self, message):\n",
    "    \n",
    "    # Request the user to input the decryption key\n",
    "    code_request = int(input('What is your text key?:> '))\n",
    "    \n",
    "    # Check if the input key matches the instance's key attribute\n",
    "    if code_request != self.key:\n",
    "        \n",
    "        # If the keys do not match, return a message indicating the key was not accepted\n",
    "        return 'Key not accepted. Try again'\n",
    "    \n",
    "    else:\n",
    "        # If the keys match, proceed with decryption\n",
    "        decrypted_word = ''\n",
    "        \n",
    "        # Convert the text to a string (if it's not already) and convert it to lowercase\n",
    "        message = str(message).lower()\n",
    "        \n",
    "        # Iterate over each character in the message\n",
    "        for char in message:\n",
    "            \n",
    "            # Check if the character is an alphabet letter\n",
    "            if char.isalpha():\n",
    "                \n",
    "                # Decrypt the character:\n",
    "                # 1. Convert the character to its ASCII value using ord()\n",
    "                # 2. Subtract 97 to get a zero-based index (since 'a' is 97 in ASCII)\n",
    "                # 3. Subtract 14 (the shift key for the cipher) to reverse the encryption\n",
    "                # 4. Take modulo 26 to wrap around the alphabet if necessary\n",
    "                # 5. Add 97 to convert back to an ASCII value\n",
    "                # 6. Convert back to a character using chr()\n",
    "                decrypt = chr((ord(char) - 97 - 14) % 26 + 97)"
   ]
  },
  {
   "cell_type": "markdown",
   "id": "ed6f59ce",
   "metadata": {},
   "source": [
    "5) **Append decrypted alphabet characters to the initialized string:** Attach the encrypted characters to the 'decrypted_word' string previously initialized."
   ]
  },
  {
   "cell_type": "code",
   "execution_count": null,
   "id": "2139ac80",
   "metadata": {},
   "outputs": [],
   "source": [
    "def decrypt_message(self, message):\n",
    "    \n",
    "    # Request the user to input the decryption key\n",
    "    code_request = int(input('What is your text key?:> '))\n",
    "    \n",
    "    # Check if the input key matches the instance's key attribute\n",
    "    if code_request != self.key:\n",
    "        \n",
    "        # If the keys do not match, return a message indicating the key was not accepted\n",
    "        return 'Key not accepted. Try again'\n",
    "    \n",
    "    else:\n",
    "        # If the keys match, proceed with decryption\n",
    "        decrypted_word = ''\n",
    "        \n",
    "        # Convert the text to a string (if it's not already) and convert it to lowercase\n",
    "        message = str(message).lower()\n",
    "        \n",
    "        # Iterate over each character in the message\n",
    "        for char in message:\n",
    "            \n",
    "            # Check if the character is an alphabet letter\n",
    "            if char.isalpha():\n",
    "                \n",
    "                # Decrypt the character:\n",
    "                # 1. Convert the character to its ASCII value using ord()\n",
    "                # 2. Subtract 97 to get a zero-based index (since 'a' is 97 in ASCII)\n",
    "                # 3. Subtract 14 (the shift key for the cipher) to reverse the encryption\n",
    "                # 4. Take modulo 26 to wrap around the alphabet if necessary\n",
    "                # 5. Add 97 to convert back to an ASCII value\n",
    "                # 6. Convert back to a character using chr()\n",
    "                decrypt = chr((ord(char) - 97 - 14) % 26 + 97)\n",
    "               \n",
    "                # Append the decrypted character to the decrypted_word string\n",
    "                decrypted_word += decrypt"
   ]
  },
  {
   "cell_type": "markdown",
   "id": "70009698",
   "metadata": {},
   "source": [
    "6) **Append non-alphabet characters to the initialized string:** Attach any non-alphabet character to the initialized 'decrypted_word' string."
   ]
  },
  {
   "cell_type": "code",
   "execution_count": null,
   "id": "c85e85ac",
   "metadata": {},
   "outputs": [],
   "source": [
    "def decrypt_message(self, message):\n",
    "    \n",
    "    # Request the user to input the decryption key\n",
    "    code_request = int(input('What is your text key?:> '))\n",
    "    \n",
    "    # Check if the input key matches the instance's key attribute\n",
    "    if code_request != self.key:\n",
    "        \n",
    "        # If the keys do not match, return a message indicating the key was not accepted\n",
    "        return 'Key not accepted. Try again'\n",
    "    \n",
    "    else:\n",
    "        # If the keys match, proceed with decryption\n",
    "        decrypted_word = ''\n",
    "        \n",
    "        # Convert the text to a string (if it's not already) and convert it to lowercase\n",
    "        message = str(message).lower()\n",
    "        \n",
    "        # Iterate over each character in the message\n",
    "        for char in message:\n",
    "            \n",
    "            # Check if the character is an alphabet letter\n",
    "            if char.isalpha():\n",
    "                \n",
    "                # Decrypt the character:\n",
    "                # 1. Convert the character to its ASCII value using ord()\n",
    "                # 2. Subtract 97 to get a zero-based index (since 'a' is 97 in ASCII)\n",
    "                # 3. Subtract 14 (the shift key for the cipher) to reverse the encryption\n",
    "                # 4. Take modulo 26 to wrap around the alphabet if necessary\n",
    "                # 5. Add 97 to convert back to an ASCII value\n",
    "                # 6. Convert back to a character using chr()\n",
    "                decrypt = chr((ord(char) - 97 - 14) % 26 + 97)\n",
    "               \n",
    "                # Append the decrypted character to the decrypted_word string\n",
    "                decrypted_word += decrypt\n",
    "                \n",
    "            else:\n",
    "                # If the character is not an alphabet letter (e.g., space, punctuation), append it unchanged\n",
    "                decrypted_word += char"
   ]
  },
  {
   "cell_type": "markdown",
   "id": "fb75682e",
   "metadata": {},
   "source": [
    " 7) **Return the decrypted text:** Return the decrypted text which is now stored in the 'decrypted_word' string."
   ]
  },
  {
   "cell_type": "code",
   "execution_count": null,
   "id": "dbdef218",
   "metadata": {},
   "outputs": [],
   "source": [
    "def decrypt_message(self, message):\n",
    "        # Request the user to input the decryption key\n",
    "        code_request = int(input('What is your text key?:> '))\n",
    "    \n",
    "        # Check if the input key matches the instance's key attribute\n",
    "        if code_request != self.key:\n",
    "        # If the keys do not match, return a message indicating the key was not accepted\n",
    "            return 'Key not accepted. Try again'\n",
    "        else:\n",
    "            # If the keys match, proceed with decryption\n",
    "            decrypted_word = ''\n",
    "        \n",
    "            # Convert the message to a string (if it's not already) and convert it to lowercase\n",
    "            message = str(message).lower()\n",
    "        \n",
    "            # Iterate over each character in the message\n",
    "            for char in message:\n",
    "                # Check if the character is an alphabet letter\n",
    "                if char.isalpha():\n",
    "                    # Decrypt the character:\n",
    "                    # 1. Convert the character to its ASCII value using ord()\n",
    "                    # 2. Subtract 97 to get a zero-based index (since 'a' is 97 in ASCII)\n",
    "                    # 3. Subtract 14 (the shift key for the cipher) to reverse the encryption\n",
    "                    # 4. Take modulo 26 to wrap around the alphabet if necessary\n",
    "                    # 5. Add 97 to convert back to an ASCII value\n",
    "                    # 6. Convert back to a character using chr()\n",
    "                    decrypt = chr((ord(char) - 97 - 14) % 26 + 97)\n",
    "                \n",
    "                    # Append the decrypted character to the decrypted_word string\n",
    "                    decrypted_word += decrypt\n",
    "                else:\n",
    "                    # If the character is not an alphabet letter (e.g., space, punctuation), append it unchanged\n",
    "                    decrypted_word += char\n",
    "        \n",
    "            # Return the fully decrypted message\n",
    "            return decrypted_word "
   ]
  },
  {
   "cell_type": "markdown",
   "id": "82b06696",
   "metadata": {},
   "source": [
    "8) **Combine the codes:** Add the contructor and encrypt_message method to the decrypt_message method."
   ]
  },
  {
   "cell_type": "code",
   "execution_count": 1,
   "id": "f2924b26",
   "metadata": {},
   "outputs": [],
   "source": [
    "class CaesarCipher(object):\n",
    "    \n",
    "    def __init__(self, key):\n",
    "        # Set the key for the cipher\n",
    "        self.key = key\n",
    "        \n",
    "    @staticmethod\n",
    "    def encrypt_message(message):\n",
    "        # Initialize an empty string to store the encrypted message\n",
    "        encrypted_word = ''\n",
    "    \n",
    "        # Convert the message to a string (if it's not already) and convert it to lowercase\n",
    "        message = str(message).lower()\n",
    "    \n",
    "        # Iterate over each character in the message\n",
    "        for char in message:\n",
    "            # Check if the character is an alphabet letter\n",
    "            if char.isalpha():\n",
    "                # Encrypt the character:\n",
    "                # 1. Convert the character to its ASCII value using ord()\n",
    "                # 2. Subtract 97 to get a zero-based index (since 'a' is 97 in ASCII)\n",
    "                # 3. Add 14 (the shift key for the cipher)\n",
    "                # 4. Take modulo 26 to wrap around the alphabet if necessary\n",
    "                # 5. Add 97 to convert back to an ASCII value\n",
    "                # 6. Convert back to a character using chr()\n",
    "                encrypt = chr((ord(char) - 97 + 14) % 26 + 97)\n",
    "            \n",
    "                # Append the encrypted character to the encrypted_word string\n",
    "                encrypted_word += encrypt\n",
    "            else:\n",
    "                # If the character is not an alphabet letter (e.g., space, punctuation), append it unchanged\n",
    "                encrypted_word += char\n",
    "    \n",
    "        # Return the fully encrypted message\n",
    "        return encrypted_word\n",
    "    \n",
    "    def decrypt_message(self, message):\n",
    "        # Request the user to input the decryption key\n",
    "        code_request = int(input('What is your cipher key?:> '))\n",
    "    \n",
    "        # Check if the input key matches the instance's key attribute\n",
    "        if code_request != self.key:\n",
    "        # If the keys do not match, return a message indicating the key was not accepted\n",
    "            return 'Key not accepted. Try again'\n",
    "        else:\n",
    "            # If the keys match, proceed with decryption\n",
    "            decrypted_word = ''\n",
    "        \n",
    "            # Convert the message to a string (if it's not already) and convert it to lowercase\n",
    "            message = str(message).lower()\n",
    "        \n",
    "            # Iterate over each character in the message\n",
    "            for char in message:\n",
    "                # Check if the character is an alphabet letter\n",
    "                if char.isalpha():\n",
    "                    # Decrypt the character:\n",
    "                    # 1. Convert the character to its ASCII value using ord()\n",
    "                    # 2. Subtract 97 to get a zero-based index (since 'a' is 97 in ASCII)\n",
    "                    # 3. Subtract 14 (the shift key for the cipher) to reverse the encryption\n",
    "                    # 4. Take modulo 26 to wrap around the alphabet if necessary\n",
    "                    # 5. Add 97 to convert back to an ASCII value\n",
    "                    # 6. Convert back to a character using chr()\n",
    "                    decrypt = chr((ord(char) - 97 - 14) % 26 + 97)\n",
    "                \n",
    "                    # Append the decrypted character to the decrypted_word string\n",
    "                    decrypted_word += decrypt\n",
    "                else:\n",
    "                    # If the character is not an alphabet letter (e.g., space, punctuation), append it unchanged\n",
    "                    decrypted_word += char\n",
    "        \n",
    "            # Return the fully decrypted message\n",
    "            return decrypted_word "
   ]
  },
  {
   "cell_type": "markdown",
   "id": "a76692ea",
   "metadata": {},
   "source": [
    "9) **Test the defined decryption method:** If the defined method works, after creating an instance of the class attribute, the encrypted word should be decrypted. "
   ]
  },
  {
   "cell_type": "code",
   "execution_count": null,
   "id": "e03f68a8",
   "metadata": {},
   "outputs": [],
   "source": [
    "# Test the decryption method using the previously encrypted text\n",
    "\n",
    "# Text to be encrypted\n",
    "word_to_be_encrypted = \"The United Kingdom publishes first guidelines for human embryo models grown from stem cells.\"\n",
    "\n",
    "# Call the encryption method from the CaesarCipher class to encrypt text\n",
    "encrypted = CaesarCipher.encrypt_message(word_to_be_encrypted)\n",
    "\n",
    "# Print text with each alphabet of the text now substituted by the 14th letter after it\n",
    "print(\"Encrypted sentence:\", encrypted)\n",
    "\n",
    "# Create an instance of the class attribute\n",
    "\n",
    "cipher_key = CaesarCipher(2345)\n",
    "\n",
    "# Call the decryption method from the CaesarCipher class to decrypt encrypted text\n",
    "decrypted = cipher_key.decrypt_message(encrypted)\n",
    "\n",
    "# Print the decrypted text which should read as the original text\n",
    "print(\"Decrypted sentence:\", decrypted)"
   ]
  },
  {
   "cell_type": "markdown",
   "id": "8e24073c",
   "metadata": {},
   "source": [
    "**Conclusion:** Following the steps above, I created a constructor, an encryption method and a decryption method. At each stage, I tested the code to ensure that it works to avoid any bug or errors. Working with the text: \"The United Kingdom publishes first guidelines for human embryo models grown from stem cells.\", I successfully encrypted the text as _\"hvs ibwhsr ywburca dipzwgvsg twfgh uiwrszwbsg tcf viaob sapfmc acrszg ufckb tfca ghsa qszzg.\"_(by shifiting each character in the original text by 14 places forward), which was later decrypted to the original text through the decryption key and method. Overall, the caesar cipher code worked as it ought to because it successfully encrypted and decrypted the given text. "
   ]
  },
  {
   "cell_type": "markdown",
   "id": "5c89f4e8",
   "metadata": {},
   "source": [
    "## 3. Columnar Transposition Cipher\n"
   ]
  },
  {
   "cell_type": "markdown",
   "id": "a3e7a28d",
   "metadata": {},
   "source": [
    "The transposition cipher is another way of encrypting a text in a more secure way than the caesar cipher and also makes a text unreadable to anyone who doesn’t possess the key to decryption. It relies on scrambling the words in plaintext by rearranging its characters. While transposition ciphers come in various forms, each contributing a unique layer of complexity, in this project, I implement the columnar transposition cipher by creating a TranspositionCipher class. In this columnar transposition cipher, the characters of the parsed texts are arranged in rows while their encryption is accomplished by reading along the columns."
   ]
  },
  {
   "cell_type": "markdown",
   "id": "14437ea2",
   "metadata": {},
   "source": [
    "## Create the constructor"
   ]
  },
  {
   "cell_type": "markdown",
   "id": "a888807a",
   "metadata": {},
   "source": [
    "1) **Initialize an instance variable:** In the constructor, an instance variable self.key is initialized. This instance variable will hold the value of the encryption key for the cipher."
   ]
  },
  {
   "cell_type": "code",
   "execution_count": null,
   "id": "ceb61770",
   "metadata": {},
   "outputs": [],
   "source": [
    "# Create a constructor\n",
    "\n",
    "class TranspositionCipher(object):\n",
    "    \n",
    "    def __init__(self, key):\n",
    "        \n",
    "        # Set the key for the cipher\n",
    "        self.key = key"
   ]
  },
  {
   "cell_type": "markdown",
   "id": "b5712b28",
   "metadata": {},
   "source": [
    "2) **Test the constructor:** Check whether the constructor works."
   ]
  },
  {
   "cell_type": "code",
   "execution_count": null,
   "id": "b31cc8c3",
   "metadata": {},
   "outputs": [],
   "source": [
    "# Test the constructor\n",
    "\n",
    "cipher = TranspositionCipher(6)\n",
    "cipher.key"
   ]
  },
  {
   "cell_type": "markdown",
   "id": "f761816c",
   "metadata": {},
   "source": [
    "## Encrypt the message\n"
   ]
  },
  {
   "cell_type": "markdown",
   "id": "2734a0b2",
   "metadata": {},
   "source": [
    "1) **Split the message into a list of characters:** The idea here is to split the text to be encrypted into individual characters and optionally convert the characters to lower- or uppercase for an extra layer of security. This will create a list where each element is a single text character."
   ]
  },
  {
   "cell_type": "code",
   "execution_count": 5,
   "id": "8dd3f744",
   "metadata": {},
   "outputs": [],
   "source": [
    "def encrypt_message(self, message):\n",
    "    \n",
    "    # Split the message into a list of characters:\n",
    "    message_split = list(message.lower())"
   ]
  },
  {
   "cell_type": "markdown",
   "id": "79fecc89",
   "metadata": {},
   "source": [
    "2) **Calculate the message’s length:** Get the message’s length so as to ensure, in later steps, that the transposition occurs within the list's boundaies."
   ]
  },
  {
   "cell_type": "code",
   "execution_count": 6,
   "id": "51b39e6a",
   "metadata": {},
   "outputs": [],
   "source": [
    "def encrypt_message(self, message):\n",
    "    \n",
    "    # Split the message into a list of characters:\n",
    "    message_split = list(message.lower())\n",
    "    \n",
    "    # Calculate the message’s length:\n",
    "    message_length = len(message_split)"
   ]
  },
  {
   "cell_type": "markdown",
   "id": "7dcfe8f1",
   "metadata": {},
   "source": [
    "3) **Initialize an empty string for the encrypted message:** Set up an empty string to hold the encrypted message. As the transposition is performed, characters are added to this string in their new (scrambled) order."
   ]
  },
  {
   "cell_type": "code",
   "execution_count": 7,
   "id": "c3e646fe",
   "metadata": {},
   "outputs": [],
   "source": [
    "def encrypt_message(self, message):\n",
    "    \n",
    "    # Split the message into a list of characters:\n",
    "    message_split = list(message.lower())\n",
    "    \n",
    "    # Calculate the message’s length:\n",
    "    message_length = len(message_split)\n",
    "    \n",
    "    # Initialize an empty string for the encrypted message\n",
    "    message_encrypted = ''"
   ]
  },
  {
   "cell_type": "markdown",
   "id": "32a48ab7",
   "metadata": {},
   "source": [
    "4) **Calculate the message ceiling:** The ceiling function, imported from the math Python library, rounds up the result of dividing two numbers. The goal here, assuming that I want the characters of the text spread in 6 columns, is to determine the number of rows that will be required to completely fill the character of the now split text."
   ]
  },
  {
   "cell_type": "code",
   "execution_count": 8,
   "id": "7f3e4e56",
   "metadata": {},
   "outputs": [],
   "source": [
    "def encrypt_message(self, message):\n",
    "    \n",
    "    # Split the message into a list of characters:\n",
    "    message_split = list(message.lower())\n",
    "    \n",
    "    # Calculate the message’s length:\n",
    "    message_length = len(message_split)\n",
    "    \n",
    "    # Initialize an empty string for the encrypted message\n",
    "    message_encrypted = ''\n",
    "    \n",
    "    # Calculate the message ceiling:\n",
    "    message_ceil = ceil(message_length/self.key)"
   ]
  },
  {
   "cell_type": "markdown",
   "id": "3f90dc31",
   "metadata": {},
   "source": [
    "5) **Construct nested for-loops to perform the transposition**"
   ]
  },
  {
   "cell_type": "code",
   "execution_count": null,
   "id": "a0eebb70",
   "metadata": {},
   "outputs": [],
   "source": [
    "def encrypt_message(self, message):\n",
    "    \n",
    "    # Split the message into a list of characters:\n",
    "    message_split = list(message.lower())\n",
    "    \n",
    "    # Calculate the message’s length:\n",
    "    message_length = len(message_split)\n",
    "    \n",
    "    # Initialize an empty string for the encrypted message\n",
    "    message_encrypted = ''\n",
    "    \n",
    "    # Calculate the message ceiling:\n",
    "    message_ceil = ceil(message_length/self.key)\n",
    "    \n",
    "    # Set up a loop to iterate through each column (from 0 to the key minus 1) and a nested loop \n",
    "    # to iterate through each row (from 0 to the calculated ceiling value minus 1).\n",
    "    for j in range(self.key):\n",
    "        for i in range(message_ceil):\n",
    "            \n",
    "            # Within the inner loop, calculate the index of each character.\n",
    "            index = j + i * self.key\n",
    "            \n",
    "            # Ensure that the calculated index is strictly smaller than the message length\n",
    "            # i.e., ignore the unfilled cells. If it is, add the character to the encrypted message string.\n",
    "            if index < message_length:\n",
    "                message_encrypted += message_split[index]\n",
    "                 "
   ]
  },
  {
   "cell_type": "markdown",
   "id": "1ace5a47",
   "metadata": {},
   "source": [
    "6) **Return the encrypted message:** Return the string storing the encrypted message."
   ]
  },
  {
   "cell_type": "code",
   "execution_count": 11,
   "id": "7c16bc92",
   "metadata": {},
   "outputs": [],
   "source": [
    "def encrypt_message(self, message):\n",
    "    \n",
    "    # Split the message into a list of characters:\n",
    "    message_split = list(message.lower())\n",
    "    \n",
    "    # Calculate the message’s length:\n",
    "    message_length = len(message_split)\n",
    "    \n",
    "    # Initialize an empty string for the encrypted message\n",
    "    message_encrypted = ''\n",
    "    \n",
    "    # Calculate the message ceiling:\n",
    "    message_ceil = ceil(message_length/self.key)\n",
    "\n",
    "    # Set up a loop to iterate through each column (from 0 to the key minus 1) and a nested loop \n",
    "    # to iterate through each row (from 0 to the calculated ceiling value minus 1).\n",
    "    for j in range(self.key):\n",
    "        for i in range(message_ceil):\n",
    "            \n",
    "            # Within the inner loop, calculate the index as suggested in the previous step.\n",
    "            index = j + i * self.key\n",
    "            \n",
    "            # Ensure that the calculated index is strictly smaller than the message length\n",
    "            # i.e., ignore the unfilled cells. If it is, add the character to the encrypted message string.\n",
    "            if index < message_length:\n",
    "                message_encrypted += message_split[index]\n",
    "                \n",
    "    # Return the encrypted message\n",
    "    return message_encrypted"
   ]
  },
  {
   "cell_type": "markdown",
   "id": "f65761b6",
   "metadata": {},
   "source": [
    "7) **Combine the codes:** Add the contructor to the encrypt_message method."
   ]
  },
  {
   "cell_type": "code",
   "execution_count": null,
   "id": "4d6c459d",
   "metadata": {},
   "outputs": [],
   "source": [
    "class TranspositionCipher(object):\n",
    "    \n",
    "    def __init__(self, key):\n",
    "        \n",
    "        # Set the key for the cipher\n",
    "        self.key = key\n",
    "        \n",
    "    def encrypt_message(self, message):\n",
    "        \n",
    "    # Split the message into a list of characters:\n",
    "    message_split = list(message.lower())\n",
    "    \n",
    "    # Calculate the message’s length:\n",
    "    message_length = len(message_split)\n",
    "    \n",
    "    # Initialize an empty string for the encrypted message\n",
    "    message_encrypted = ''\n",
    "    \n",
    "    # Calculate the message ceiling:\n",
    "    message_ceil = ceil(message_length/self.key)\n",
    "\n",
    "    # Set up a loop to iterate through each column (from 0 to the key minus 1) and a nested loop \n",
    "    # to iterate through each row (from 0 to the calculated ceiling value minus 1).\n",
    "    for j in range(self.key):\n",
    "        for i in range(message_ceil):\n",
    "            \n",
    "            # Within the inner loop, calculate the index as suggested in the previous step.\n",
    "            index = j + i * self.key\n",
    "            \n",
    "            # Ensure that the calculated index is strictly smaller than the message length\n",
    "            # i.e., ignore the unfilled cells. If it is, add the character to the encrypted message string.\n",
    "            if index < message_length:\n",
    "                message_encrypted += message_split[index]\n",
    "                \n",
    "    # Return the encrypted message\n",
    "    return message_encrypted"
   ]
  },
  {
   "cell_type": "markdown",
   "id": "7995dbdd",
   "metadata": {},
   "source": [
    "8) **Test the defined encryption method:** Check whether a text will be encrypted when the method is called. "
   ]
  },
  {
   "cell_type": "code",
   "execution_count": 15,
   "id": "362d0524",
   "metadata": {},
   "outputs": [
    {
     "name": "stdout",
     "output_type": "stream",
     "text": [
      "Encrypted sentence: td su nmossh p if owt.ekufdoedne ibierme munlrl blf ngisihrsrcidstnuy oetoh emogmlemegsa r l\n"
     ]
    }
   ],
   "source": [
    "# Test the encryption method\n",
    "\n",
    "# Create the object instance\n",
    "cipher_key = TranspositionCipher(9)\n",
    "\n",
    "# Text to be encrypted\n",
    "word_to_be_encrypted = \"The United Kingdom publishes first guidelines for human embryo models grown from stem cells.\"\n",
    "\n",
    "# Call the encryption method from the TranspositionCipher class to encrypt text\n",
    "encrypted = cipher_key.encrypt_message(word_to_be_encrypted)\n",
    "\n",
    "# Print text with character position now scrambled\n",
    "print(\"Encrypted sentence:\", encrypted)"
   ]
  },
  {
   "cell_type": "markdown",
   "id": "923b301d",
   "metadata": {},
   "source": [
    "## Decrypt the message\n"
   ]
  },
  {
   "cell_type": "markdown",
   "id": "df1ad35a",
   "metadata": {},
   "source": [
    "1) **Split the message into a list of characters:** Again, as the very first step, split the encrypted text into a list of individual characters, creating a list where each element is a single text character."
   ]
  },
  {
   "cell_type": "code",
   "execution_count": null,
   "id": "7853b886",
   "metadata": {},
   "outputs": [],
   "source": [
    "def decrypt_message(self, message):\n",
    "    \n",
    "    # Split the message into a list of characters:\n",
    "    message_split = list(message.lower())"
   ]
  },
  {
   "cell_type": "markdown",
   "id": "5a347baa",
   "metadata": {},
   "source": [
    "2) **Calculate the length of the message:** Find the length of the encrypted text to ensure we stay within the boundaries."
   ]
  },
  {
   "cell_type": "code",
   "execution_count": null,
   "id": "a3315f99",
   "metadata": {},
   "outputs": [],
   "source": [
    "def decrypt_message(self, message):\n",
    "    \n",
    "    # Split the message into a list of characters:\n",
    "    message_split = list(message.lower())\n",
    "    \n",
    "    # Calculate the length of the message\n",
    "    message_length = len(message_split)"
   ]
  },
  {
   "cell_type": "markdown",
   "id": "e5ce68a1",
   "metadata": {},
   "source": [
    "3) **Calculate the number of columns required:** The number of columns required is calculated by finding the ceiling ratio between the message length and the key."
   ]
  },
  {
   "cell_type": "code",
   "execution_count": null,
   "id": "b711b1c2",
   "metadata": {},
   "outputs": [],
   "source": [
    "def decrypt_message(self, message):\n",
    "    \n",
    "    # Split the message into a list of characters:\n",
    "    message_split = list(message.lower())\n",
    "    \n",
    "    # Calculate the length of the message\n",
    "    message_length = len(message_split)\n",
    "    \n",
    "    # Calculate the number of columns required\n",
    "    message_ceil = ceil(message_length/self.key)"
   ]
  },
  {
   "cell_type": "markdown",
   "id": "00fba708",
   "metadata": {},
   "source": [
    "4) **Calculate the number of empty cells in the grid:** Find the number of cells that will store no characters and be ignored in the algorithm."
   ]
  },
  {
   "cell_type": "code",
   "execution_count": null,
   "id": "3de63e5f",
   "metadata": {},
   "outputs": [],
   "source": [
    "def decrypt_message(self, message):\n",
    "    \n",
    "    # Split the message into a list of characters:\n",
    "    message_split = list(message.lower())\n",
    "    \n",
    "    # Calculate the length of the message\n",
    "    message_length = len(message_split)\n",
    "    \n",
    "    # Calculate the number of columns required\n",
    "    message_ceil = ceil(message_length/self.key)\n",
    "    \n",
    "    # Calculate the number of empty cells in the grid\n",
    "    num_empty_cells = self.key*message_ceil - message_length"
   ]
  },
  {
   "cell_type": "markdown",
   "id": "90cdbfa6",
   "metadata": {},
   "source": [
    "5) **Initialize a grid of empty strings:** Create an empty grid to hold the characters of the encrypted message. The grid will have as many rows as the key and columns as the calculated ceiling. Each cell in the grid will store the empty string ' '."
   ]
  },
  {
   "cell_type": "code",
   "execution_count": null,
   "id": "4ca877d6",
   "metadata": {},
   "outputs": [],
   "source": [
    "def decrypt_message(self, message):\n",
    "    \n",
    "    # Split the message into a list of characters:\n",
    "    message_split = list(message.lower())\n",
    "    \n",
    "    # Calculate the length of the message\n",
    "    message_length = len(message_split)\n",
    "    \n",
    "    # Calculate the number of columns required\n",
    "    message_ceil = ceil(message_length/self.key)\n",
    "    \n",
    "    # Calculate the number of empty cells in the grid\n",
    "    num_empty_cells = self.key*message_ceil - message_length\n",
    "    \n",
    "    # Initialize a grid of empty strings\n",
    "    message_grid = [['' for _ in range(message_ceil)] for _ in range(self.key)]"
   ]
  },
  {
   "cell_type": "markdown",
   "id": "1d2af7f5",
   "metadata": {},
   "source": [
    "6) **Initialize an empty string for the decrypted message:** Set up an empty string to hold the decrypted message. As the text is \"retransposed\", characters are added to this string in their new (correct) order."
   ]
  },
  {
   "cell_type": "code",
   "execution_count": null,
   "id": "798fee68",
   "metadata": {},
   "outputs": [],
   "source": [
    "def decrypt_message(self, message):\n",
    "    \n",
    "    # Split the message into a list of characters:\n",
    "    message_split = list(message.lower())\n",
    "    \n",
    "    # Calculate the length of the message\n",
    "    message_length = len(message_split)\n",
    "    \n",
    "    # Calculate the number of columns required\n",
    "    message_ceil = ceil(message_length/self.key)\n",
    "    \n",
    "    # Calculate the number of empty cells in the grid\n",
    "    num_empty_cells = self.key*message_ceil - message_length\n",
    "    \n",
    "    # Initialize a grid of empty strings\n",
    "    message_grid = [['' for _ in range(message_ceil)] for _ in range(self.key)]\n",
    "    \n",
    "    # Initialize an empty string for the decrypted message\n",
    "    message_decrypted = ''"
   ]
  },
  {
   "cell_type": "markdown",
   "id": "4fb59c30",
   "metadata": {},
   "source": [
    "7) **Create an iterator:** Declare an iterator object from the list of characters created in Step 1, allowing us to get the next character from the message each time we fill a cell in the grid."
   ]
  },
  {
   "cell_type": "code",
   "execution_count": null,
   "id": "0c7ee717",
   "metadata": {},
   "outputs": [],
   "source": [
    "def decrypt_message(self, message):\n",
    "    \n",
    "    # Split the message into a list of characters:\n",
    "    message_split = list(message.lower())\n",
    "    \n",
    "    # Calculate the length of the message\n",
    "    message_length = len(message_split)\n",
    "    \n",
    "    # Calculate the number of columns required\n",
    "    message_ceil = ceil(message_length/self.key)\n",
    "    \n",
    "    # Calculate the number of empty cells in the grid\n",
    "    num_empty_cells = self.key*message_ceil - message_length\n",
    "    \n",
    "    # Initialize a grid of empty strings\n",
    "    message_grid = [['' for _ in range(message_ceil)] for _ in range(self.key)]\n",
    "    \n",
    "    # Initialize an empty string for the decrypted message\n",
    "    message_decrypted = ''\n",
    "    \n",
    "    # Create an iterator\n",
    "    iterator = iter(message_split)"
   ]
  },
  {
   "cell_type": "markdown",
   "id": "25da7624",
   "metadata": {},
   "source": [
    "8) **Construct nested for-loops for filling in the grid:** Set up a nested loop to iterate through each cell in the grid (each column within each row). In each iteration, fill in the current cell with the next character from the message unless you're in a cell that should be ignored. Once the process is finished, the ignored cells will store an empty string."
   ]
  },
  {
   "cell_type": "code",
   "execution_count": null,
   "id": "a3a8fed9",
   "metadata": {},
   "outputs": [],
   "source": [
    "def decrypt_message(self, message):\n",
    "    \n",
    "    # Split the message into a list of characters:\n",
    "    message_split = list(message.lower())\n",
    "    \n",
    "    # Calculate the length of the message\n",
    "    message_length = len(message_split)\n",
    "    \n",
    "    # Calculate the number of columns required\n",
    "    message_ceil = ceil(message_length/self.key)\n",
    "    \n",
    "    # Calculate the number of empty cells in the grid\n",
    "    num_empty_cells = self.key*message_ceil - message_length\n",
    "    \n",
    "    # Initialize a grid of empty strings\n",
    "    message_grid = [['' for _ in range(message_ceil)] for _ in range(self.key)]\n",
    "    \n",
    "    # Initialize an empty string for the decrypted message\n",
    "    message_decrypted = ''\n",
    "    \n",
    "    # Create an iterator\n",
    "    iterator = iter(message_split)\n",
    "    \n",
    "    # Construct nested for-loops for filling in the grid\n",
    "    for i in range(self.key):\n",
    "\n",
    "        if i < self.key - num_empty_cells:\n",
    "            columns = message_ceil\n",
    "        else:\n",
    "            columns = message_ceil - 1\n",
    "\n",
    "        for j in range(columns):\n",
    "            message_grid[i][j] = next(iterator, None)\n"
   ]
  },
  {
   "cell_type": "markdown",
   "id": "ebd256e2",
   "metadata": {},
   "source": [
    "9) **Construct nested for-loops for decrypting the message:** Set up another nested loop to read the characters from the grid in their original order—down each column, then across to the next column. Add each character to the decrypted message string. In this process, the ignored cells would be added but it isn't a problem because they contain empty strings and won’t affect the decrypted message."
   ]
  },
  {
   "cell_type": "code",
   "execution_count": null,
   "id": "b34100fd",
   "metadata": {},
   "outputs": [],
   "source": [
    "def decrypt_message(self, message):\n",
    "    \n",
    "    # Split the message into a list of characters:\n",
    "    message_split = list(message.lower())\n",
    "    \n",
    "    # Calculate the length of the message\n",
    "    message_length = len(message_split)\n",
    "    \n",
    "    # Calculate the number of columns required\n",
    "    message_ceil = ceil(message_length/self.key)\n",
    "    \n",
    "    # Calculate the number of empty cells in the grid\n",
    "    num_empty_cells = self.key*message_ceil - message_length\n",
    "    \n",
    "    # Initialize a grid of empty strings\n",
    "    message_grid = [['' for _ in range(message_ceil)] for _ in range(self.key)]\n",
    "    \n",
    "    # Initialize an empty string for the decrypted message\n",
    "    message_decrypted = ''\n",
    "    \n",
    "    # Create an iterator\n",
    "    iterator = iter(message_split)\n",
    "    \n",
    "    # Construct nested for-loops for filling in the grid\n",
    "    for i in range(self.key):\n",
    "\n",
    "        if i < self.key - num_empty_cells:\n",
    "            columns = message_ceil\n",
    "        else:\n",
    "            columns = message_ceil - 1\n",
    "\n",
    "        for j in range(columns):\n",
    "            message_grid[i][j] = next(iterator, None)\n",
    "\n",
    "    # Construct nested for-loops for decrypting the message\n",
    "    for j in range(message_ceil):\n",
    "        for i in range(self.key):\n",
    "            message_decrypted += message_grid[i][j]"
   ]
  },
  {
   "cell_type": "markdown",
   "id": "69139fbc",
   "metadata": {},
   "source": [
    "10) **Return the decrypted message** "
   ]
  },
  {
   "cell_type": "code",
   "execution_count": null,
   "id": "7f000458",
   "metadata": {},
   "outputs": [],
   "source": [
    "def decrypt_message(self, message):\n",
    "    \n",
    "    # Split the message into a list of characters:\n",
    "    message_split = list(message.lower())\n",
    "    \n",
    "    # Calculate the length of the message\n",
    "    message_length = len(message_split)\n",
    "    \n",
    "    # Calculate the number of columns required\n",
    "    message_ceil = ceil(message_length/self.key)\n",
    "    \n",
    "    # Calculate the number of empty cells in the grid\n",
    "    num_empty_cells = self.key*message_ceil - message_length\n",
    "    \n",
    "    # Initialize a grid of empty strings\n",
    "    message_grid = [['' for _ in range(message_ceil)] for _ in range(self.key)]\n",
    "    \n",
    "    # Initialize an empty string for the decrypted message\n",
    "    message_decrypted = ''\n",
    "    \n",
    "    # Create an iterator\n",
    "    iterator = iter(message_split)\n",
    "    \n",
    "    # Construct nested for-loops for filling in the grid\n",
    "    for i in range(self.key):\n",
    "\n",
    "        if i < self.key - num_empty_cells:\n",
    "            columns = message_ceil\n",
    "        else:\n",
    "            columns = message_ceil - 1\n",
    "\n",
    "        for j in range(columns):\n",
    "            message_grid[i][j] = next(iterator, None)\n",
    "\n",
    "    # Construct nested for-loops for decrypting the message\n",
    "    for j in range(message_ceil):\n",
    "        for i in range(self.key):\n",
    "            message_decrypted += message_grid[i][j]\n",
    "    \n",
    "    # Return the decrypted message\n",
    "    return message_decrypted"
   ]
  },
  {
   "cell_type": "markdown",
   "id": "a5937e67",
   "metadata": {},
   "source": [
    "11) **Combine the codes:** Add the contructor and the encrypt_message method to the newly created decrypt_message method."
   ]
  },
  {
   "cell_type": "code",
   "execution_count": 6,
   "id": "541f95f1",
   "metadata": {},
   "outputs": [],
   "source": [
    "class TranspositionCipher(object):\n",
    "    \n",
    "    def __init__(self, key):\n",
    "        \n",
    "        # Set the key for the cipher\n",
    "        self.key = key\n",
    "        \n",
    "    def encrypt_message(self, message):\n",
    "        \n",
    "        # Split the message into a list of characters:\n",
    "        message_split = list(message.lower())\n",
    "        \n",
    "        # Calculate the message’s length:\n",
    "        message_length = len(message_split)\n",
    "        \n",
    "        # Initialize an empty string for the encrypted message\n",
    "        message_encrypted = ''\n",
    "        \n",
    "        # Calculate the message ceiling:\n",
    "        message_ceil = ceil(message_length/self.key)\n",
    "\n",
    "        # Set up a loop to iterate through each column (from 0 to the key minus 1) and a nested loop \n",
    "        # to iterate through each row (from 0 to the calculated ceiling value minus 1).\n",
    "        for j in range(self.key):\n",
    "            for i in range(message_ceil):\n",
    "                \n",
    "                # Within the inner loop, calculate the index as suggested in the previous step.\n",
    "                index = j + i * self.key\n",
    "                \n",
    "                # Ensure that the calculated index is strictly smaller than the message length\n",
    "                # i.e., ignore the unfilled cells. If it is, add the character to the encrypted message string.\n",
    "                if index < message_length:\n",
    "                    message_encrypted += message_split[index]\n",
    "                    \n",
    "        # Return the encrypted message\n",
    "        return message_encrypted\n",
    "\n",
    "    \n",
    "    def decrypt_message(self, message):\n",
    "    \n",
    "        # Split the message into a list of characters:\n",
    "        message_split = list(message.lower())\n",
    "    \n",
    "        # Calculate the length of the message\n",
    "        message_length = len(message_split)\n",
    "    \n",
    "        # Calculate the number of columns required\n",
    "        message_ceil = ceil(message_length/self.key)\n",
    "    \n",
    "        # Calculate the number of empty cells in the grid\n",
    "        num_empty_cells = self.key*message_ceil - message_length\n",
    "    \n",
    "        # Initialize a grid of empty strings\n",
    "        message_grid = [['' for _ in range(message_ceil)] for _ in range(self.key)]\n",
    "    \n",
    "        # Initialize an empty string for the decrypted message\n",
    "        message_decrypted = ''\n",
    "    \n",
    "        # Create an iterator\n",
    "        iterator = iter(message_split)\n",
    "    \n",
    "        # Construct nested for-loops for filling in the grid\n",
    "        for i in range(self.key):\n",
    "\n",
    "            if i < self.key - num_empty_cells:\n",
    "                columns = message_ceil\n",
    "            else:\n",
    "                columns = message_ceil - 1\n",
    "\n",
    "            for j in range(columns):\n",
    "                message_grid[i][j] = next(iterator, None)\n",
    "\n",
    "        # Construct nested for-loops for decrypting the message\n",
    "        for j in range(message_ceil):\n",
    "            for i in range(self.key):\n",
    "                message_decrypted += message_grid[i][j]\n",
    "    \n",
    "        # Return the decrypted message\n",
    "        return message_decrypted"
   ]
  },
  {
   "cell_type": "markdown",
   "id": "732e38bd",
   "metadata": {},
   "source": [
    "11) **Test the defined decryption method:** Check whether the encrypted text will be decrypted to its original texts when the method is called. "
   ]
  },
  {
   "cell_type": "code",
   "execution_count": 7,
   "id": "da30be68",
   "metadata": {},
   "outputs": [
    {
     "name": "stdout",
     "output_type": "stream",
     "text": [
      "Encrypted sentence: td su nmossh p if owt.ekufdoedne ibierme munlrl blf ngisihrsrcidstnuy oetoh emogmlemegsa r l\n",
      "Decrypted sentence: the united kingdom publishes first guidelines for human embryo models grown from stem cells.\n"
     ]
    }
   ],
   "source": [
    "# Test the decryption method\n",
    "\n",
    "# Create the object instance\n",
    "cipher_key = TranspositionCipher(9)\n",
    "\n",
    "# Text to be encrypted\n",
    "word_to_be_encrypted = \"The United Kingdom publishes first guidelines for human embryo models grown from stem cells.\"\n",
    "\n",
    "# Call the encryption method from the TranspositionCipher class to encrypt text\n",
    "encrypted = cipher_key.encrypt_message(word_to_be_encrypted)\n",
    "\n",
    "# Print text with character position now scrambled\n",
    "print(\"Encrypted sentence:\", encrypted)\n",
    "\n",
    "# Call the decryption method from the CaesarCipher class to decrypt encrypted text\n",
    "decrypted = cipher_key.decrypt_message(encrypted)\n",
    "\n",
    "# Print the decrypted text which should read as the original text\n",
    "print(\"Decrypted sentence:\", decrypted)"
   ]
  },
  {
   "cell_type": "markdown",
   "id": "9f32bda1",
   "metadata": {},
   "source": [
    "**Conclusion:** Following the steps above, I created and tested a constructor, an encryption method and a decryption method for the Transposition Cipher. Working with the text: \"The United Kingdom publishes first guidelines for human embryo models grown from stem cells.\", I successfully encrypted the text as \"td su nmossh p if owt.ekufdoedne ibierme munlrl blf ngisihrsrcidstnuy oetoh emogmlemegsa r l.\", which was later decrypted to the original text through the decryption method. Overall, the columnar transposition cipher code worked as it ought to because it successfully encrypted and decrypted the given text."
   ]
  },
  {
   "cell_type": "markdown",
   "id": "203c644e",
   "metadata": {},
   "source": [
    "## Alternative solution to the Columnar Transposition Cipher"
   ]
  },
  {
   "cell_type": "code",
   "execution_count": null,
   "id": "886b3024",
   "metadata": {},
   "outputs": [],
   "source": [
    "class TranspositionCipher(object):\n",
    "\n",
    "    def __init__(self, key):\n",
    "        self.key = key\n",
    "\n",
    "    def encrypt_message(self, message):\n",
    "\n",
    "        message_length = len(message)\n",
    "        # Define the number of rows and columns\n",
    "        rows = ceil(message_length / self.key)\n",
    "        cols = self.key\n",
    "\n",
    "        # Arrange characters into a grid with spaces allowed\n",
    "        encrypt_grid = []\n",
    "        index = 0\n",
    "        for r in range(rows):\n",
    "            row_data = []\n",
    "            for c in range(cols):\n",
    "                if index < len(message):\n",
    "                    row_data.append(message[index])\n",
    "                    index += 1\n",
    "                else:\n",
    "                    row_data.append('')\n",
    "            encrypt_grid.append(row_data)\n",
    "\n",
    "        encrypted_word = ''\n",
    "        for col in range(cols):\n",
    "            for row in range(rows):\n",
    "                encrypted_word += encrypt_grid[row][col]\n",
    "        return encrypted_word\n",
    "\n",
    "    def decrypt_message(self, message):\n",
    "        cols = self.key\n",
    "        # Calculate the number of full rows and remaining characters\n",
    "        full_rows = floor(len(message) / cols)\n",
    "        remaining_chars = len(message) % cols\n",
    "\n",
    "        # Create the grid with appropriate rows\n",
    "        decrypt_grid = [['' for _ in range(cols)] for _ in\n",
    "                        range(full_rows + 1)]  # Add an extra row for remaining characters\n",
    "\n",
    "        index = 0\n",
    "        for col in range(cols):\n",
    "            # Fill full rows and remaining characters in the last row\n",
    "            for row in range(full_rows):\n",
    "                if index < len(message):\n",
    "                    decrypt_grid[row][col] = message[index]\n",
    "                    index += 1\n",
    "            # Fill the last row with remaining characters (if any)\n",
    "            if remaining_chars > 0 and index < len(message):\n",
    "                decrypt_grid[full_rows][col] = message[index]\n",
    "                index += 1\n",
    "                remaining_chars -= 1\n",
    "\n",
    "        decrypted_word = ''\n",
    "        # Read the grid by rows to get the decrypted message\n",
    "        for row in range(full_rows + 1):  # Include the last row\n",
    "            for col in range(cols):\n",
    "                decrypted_word += decrypt_grid[row][col]\n",
    "        return decrypted_word"
   ]
  },
  {
   "cell_type": "markdown",
   "id": "63e18fcd",
   "metadata": {},
   "source": [
    "# THANK YOU! YOU HAVE REACHED THE END OF THIS NOTEBOOK. I HOPE IT WAS INSIGHTFUL.\n",
    "\n",
    "## You can use the links below to view my other pages\n",
    "\n",
    "* [GitHub](https://github.com/MichAdebayo)\n",
    "\n",
    "* [LinkedIn](https://www.linkedin.com/in/adebayomichael/)"
   ]
  }
 ],
 "metadata": {
  "kernelspec": {
   "display_name": "Python 3 (ipykernel)",
   "language": "python",
   "name": "python3"
  },
  "language_info": {
   "codemirror_mode": {
    "name": "ipython",
    "version": 3
   },
   "file_extension": ".py",
   "mimetype": "text/x-python",
   "name": "python",
   "nbconvert_exporter": "python",
   "pygments_lexer": "ipython3",
   "version": "3.7.12"
  }
 },
 "nbformat": 4,
 "nbformat_minor": 5
}
